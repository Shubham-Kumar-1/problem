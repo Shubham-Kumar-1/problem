{
 "cells": [
  {
   "cell_type": "code",
   "execution_count": 1,
   "metadata": {},
   "outputs": [
    {
     "name": "stdout",
     "output_type": "stream",
     "text": [
      "[2, 6, 4, 30, 24, 45, 23, 1]\n"
     ]
    }
   ],
   "source": [
    "number=[2,6,4,30,24,45,23,1]\n",
    "print(number)"
   ]
  },
  {
   "cell_type": "code",
   "execution_count": 3,
   "metadata": {},
   "outputs": [
    {
     "name": "stdout",
     "output_type": "stream",
     "text": [
      "2\n",
      "6\n",
      "4\n",
      "30\n",
      "24\n"
     ]
    }
   ],
   "source": [
    "number=[2,6,4,30,24,45,23,1]\n",
    "for num in number:\n",
    "    if num%2==0:\n",
    "        print(num)\n",
    "   "
   ]
  },
  {
   "cell_type": "code",
   "execution_count": 5,
   "metadata": {},
   "outputs": [
    {
     "name": "stdout",
     "output_type": "stream",
     "text": [
      "45\n",
      "23\n",
      "1\n"
     ]
    }
   ],
   "source": [
    "number=[2,6,4,30,24,45,23,1]\n",
    "for num in number:\n",
    "    if num%2!=0:\n",
    "        print(num)\n",
    "   "
   ]
  },
  {
   "cell_type": "code",
   "execution_count": 9,
   "metadata": {},
   "outputs": [
    {
     "name": "stdout",
     "output_type": "stream",
     "text": [
      "[1, 2, 4, 6, 23, 24, 30, 45]\n"
     ]
    }
   ],
   "source": [
    "number=[2,6,4,30,24,45,23,1]\n",
    "number.sort(reverse=False)\n",
    "print(number)"
   ]
  },
  {
   "cell_type": "code",
   "execution_count": 8,
   "metadata": {},
   "outputs": [
    {
     "name": "stdout",
     "output_type": "stream",
     "text": [
      "[45, 30, 24, 23, 6, 4, 2, 1]\n"
     ]
    }
   ],
   "source": [
    "number=[2,6,4,30,24,45,23,1]\n",
    "number.sort(reverse=True)\n",
    "print(number)"
   ]
  },
  {
   "cell_type": "code",
   "execution_count": 47,
   "metadata": {},
   "outputs": [
    {
     "name": "stdout",
     "output_type": "stream",
     "text": [
      "2\n",
      "2\n",
      "4\n",
      "6\n",
      "10\n",
      "24\n",
      "30\n"
     ]
    }
   ],
   "source": [
    "number=[2,6,4,30,24,45,23,10,1]\n",
    "for num in number:\n",
    "    if num%2==0:\n",
    "        number.sort(reverse=False)\n",
    "        print(num)\n"
   ]
  },
  {
   "cell_type": "code",
   "execution_count": 63,
   "metadata": {},
   "outputs": [
    {
     "name": "stdout",
     "output_type": "stream",
     "text": [
      "2\n",
      "30\n",
      "24\n",
      "10\n",
      "6\n",
      "4\n",
      "2\n"
     ]
    }
   ],
   "source": [
    "number=[2,6,4,30,24,45,23,10,1]\n",
    "for num in number:\n",
    "    number.sort(reverse=True)\n",
    "    if num%2==0:\n",
    "       \n",
    "        print(num)"
   ]
  },
  {
   "cell_type": "code",
   "execution_count": 59,
   "metadata": {},
   "outputs": [
    {
     "name": "stdout",
     "output_type": "stream",
     "text": [
      "23\n",
      "1\n"
     ]
    }
   ],
   "source": [
    "number=[2,6,4,30,24,45,23,10,1]\n",
    "for num in number:\n",
    "    number.sort(reverse=True)\n",
    "    if num %2!=0:\n",
    "        print(num)"
   ]
  },
  {
   "cell_type": "code",
   "execution_count": 69,
   "metadata": {},
   "outputs": [
    {
     "name": "stdout",
     "output_type": "stream",
     "text": [
      "23\n",
      "45\n"
     ]
    }
   ],
   "source": [
    "number=[2,6,4,30,24,45,23,10,1]\n",
    "\n",
    "for num in number:\n",
    "    number.sort(reverse=False)\n",
    "    if num %2!=0:\n",
    "        \n",
    "        print(num)"
   ]
  },
  {
   "cell_type": "code",
   "execution_count": 71,
   "metadata": {},
   "outputs": [
    {
     "name": "stdout",
     "output_type": "stream",
     "text": [
      "2\n",
      "2\n",
      "4\n",
      "6\n",
      "10\n",
      "24\n",
      "30\n",
      "1\n",
      "23\n",
      "45\n"
     ]
    }
   ],
   "source": [
    "number=[2,6,4,30,24,45,23,10,1]\n",
    "for num in number:\n",
    "    if num%2==0:\n",
    "        number.sort(reverse=False)\n",
    "        print(num)\n",
    "for num in number:\n",
    "    number.sort(reverse=False)\n",
    "    if num %2!=0:\n",
    "        \n",
    "        print(num)"
   ]
  },
  {
   "cell_type": "code",
   "execution_count": null,
   "metadata": {},
   "outputs": [],
   "source": []
  }
 ],
 "metadata": {
  "kernelspec": {
   "display_name": "Python 3",
   "language": "python",
   "name": "python3"
  },
  "language_info": {
   "codemirror_mode": {
    "name": "ipython",
    "version": 3
   },
   "file_extension": ".py",
   "mimetype": "text/x-python",
   "name": "python",
   "nbconvert_exporter": "python",
   "pygments_lexer": "ipython3",
   "version": "3.11.9"
  }
 },
 "nbformat": 4,
 "nbformat_minor": 2
}
